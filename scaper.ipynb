{
 "cells": [
  {
   "cell_type": "code",
   "execution_count": 2,
   "metadata": {},
   "outputs": [],
   "source": [
    "import requests\n",
    "from bs4 import BeautifulSoup\n",
    "from textblob import TextBlob\n",
    "import mysql.connector\n",
    "\n",
    "base_url = 'https://www.yelp.com/biz/'\n",
    "\n",
    "url = \"https://www.yelp.com/biz/ryptic-room-escape-san-mateo-3?osq=escape+room\"\n",
    "html = requests.get(url)\n",
    "soup = BeautifulSoup(html.text, 'html.parser')"
   ]
  },
  {
   "cell_type": "code",
   "execution_count": 50,
   "metadata": {},
   "outputs": [],
   "source": [
    "span_elements = soup.find_all(class_='raw__09f24__T4Ezm', lang='en')"
   ]
  },
  {
   "cell_type": "code",
   "execution_count": 49,
   "metadata": {},
   "outputs": [
    {
     "data": {
      "text/plain": [
       "171"
      ]
     },
     "execution_count": 49,
     "metadata": {},
     "output_type": "execute_result"
    }
   ],
   "source": [
    "# Returns the upper bound for looping through the review pages.\n",
    "# Example: If the review page consists of 20 pages, then the search query will\n",
    "# append '?start=190' to the URL to get to the last review page. This function will\n",
    "# return 191, the upper bound needed for a for-loop to go through all the review pages.\n",
    "def get_reviews_loop_upper_bound(soup_obj):\n",
    "    upper_bound = 0\n",
    "    # 'css-chan6m' elements contain a \"# of #\", with the former being the current review page\n",
    "    # and the latter being the last review page.\n",
    "    chan6m_elems = soup.find_all(class_='css-chan6m')\n",
    "    for chan6m_elem in chan6m_elems:\n",
    "        if 'of' in chan6m_elem.text:\n",
    "            upper_bound = (int(chan6m_elem.text.split()[-1]) - 1) * 10 + 1 # get last review page\n",
    "            return upper_bound\n",
    "    return upper_bound\n",
    "\n",
    "get_reviews_loop_upper_bound(soup)"
   ]
  },
  {
   "cell_type": "code",
   "execution_count": 36,
   "metadata": {},
   "outputs": [],
   "source": [
    "# Takes in a soup object and retuns the escape room's name and the city the room is in\n",
    "def get_room_info(soup_obj):\n",
    "    room_title_info = soup_obj.title.text.split('-')\n",
    "    \n",
    "    # Title is the 0th element in the list with trailing white spaces\n",
    "    room_name = room_title_info[0].strip()\n",
    "\n",
    "    # Address is the 2nd elemnt in the list, city is the second to last element in list with trailing white spaces\n",
    "    room_city = room_title_info[2].split(',')[-2].strip()\n",
    "    return room_name, room_city"
   ]
  },
  {
   "cell_type": "code",
   "execution_count": 37,
   "metadata": {},
   "outputs": [
    {
     "name": "stdout",
     "output_type": "stream",
     "text": [
      "RYPTIC ROOM ESCAPE - San Mateo\n",
      "-----------\n",
      "0.2750 : We had a great game master, but that's about all I can say that was good about this escape room. I've done dozens of escape rooms and this is one of the jankiest rooms I've done. Low tech, you can see all four rooms when you walk in, and the walls are made of legos. And no, I'm not joking.\n",
      "-0.0701 : We booked our event for a birthday party on 8/1/2022 and the day before the event, Ryptic sent an automated cancellation. When I emailed for a manager and called to find out what happened, there was no response.  Later, I get an email saying the host couldn't make it and so they had to cancel.  Poorly handled.  Extremely disappointing Ryptic.  This is not how you run a business!  Now we are left last minute with not birthday plans...wow...so inconsiderate and thoughtless.  I get that things happen, but a courtesy call and, hey, we're sorry, how can we make things right with you would have been a better option.  This is why you're getting a one-star review.  So for all future customers - beware, this business may just decide to cancel with no reason and leave you high and dry.\n",
      "0.2479 : Booked an escape room for my son's 11th bday. Booking was really easy. Well it's easy once you figure out they they book and communicate via email ONLY. Our guide or whatever you want to call them was cool. Young college looking student who explained how it all works and tells you the story. The escape from aliens is located inside of a building that looks abandoned. Metered street parking all around the building. Which was surprisingly pretty easy to find that day. However it's like a 2 hour limit. Overall it was a fun experience even though we did not escape lol we were so close  she takes a group picture at the end of your escape or your attempt to. Would definitely try this again and try their other escape rooms.\n",
      "0.3514 : I booked this for a team bonding event. It was the first time for some of my teammates and me so we were unsure what to expect. Taylor hosted us and they were great! Very enthusiastic and tips were very clear. They even gave us a bit more time and some extra hints to get us going so we felt we were close to beating the room.I also want to give a special mention to Abby from customer service as well. I had accidentally booked rooms in two locations and they worked with me to help get either a partial refund or a reschedule which was unexpected but I really, really appreciated.Thank you all for making our visit awesome and I look forward to visiting again in the future.\n",
      "0.2719 : This was an okay spot. The gamemaster didn't seem that enthusiastic in giving the brief. The puzzles themselves were pretty good, but it was all very basic \"find the key to the lock, and the next lock, and the next lock\" type of thing.If it's your first time going to an escape room, this might be a good novice place to start with. However, with their price being the same as Omescape, it's kinda not worth it. Omescape rooms are already doing version 2 of escape rooms, which means they have more production value (more fancy, elaborate puzzles).\n",
      "0.3086 : My son wanted to go here for his 11th birthday.  He invited friends from school and we had a party of 10.  Being new to escape rooms i didn't know what to expect however our game master was awesome.She explained everything perfectly and was also nice and polite with the kids.  She gave the background story before the adventure in a way that got the all the kidsAttention.  Her delivery was great.Without giving too much away about the rooms, all i will say is that the setup was great and definitely matched the storyline.  The whole party had a great time and everyone continued to talk about it over pizza.Parking could be challenging in downtown San Mateo however but it would be well worth it for the experience.  We would come back again to try the other themed rooms.\n",
      "0.1455 : We had so much fun!Highly recommend for groups of friends or team building. Boyfriend and I participated before just us two with random people which was cool- wasn't bad or anything but the experience is totally diff with a group of people you know. The feeling of unlocking the riddles/clues so exhilarating;) hahahaha.Anyways, thanks Chad for being our awesome game master :)\n",
      "0.5320 : This is a great experience! My team was intimated by the 23% escaping rate. However, Matthew made sure that we got all the support needed along the way and actually got out under 50mins. I highly recommend this place for friends/team building events. Also Matthew is a great guide!!!!\n",
      "0.3409 : Never did an escape room before. Only experience was watching one on an episode of Big Bang theory. Gotta admit, these guys gave my corporate group a very entertaining hour. Different types of puzzles at varying levels of difficulty, felt like most of the group was able to contribute at different times instead of 1 or 2 know it alls running the show. Fun story line, GREAT HOST, excellent transition to a virtual setting. Look forward to trying another one soon.\n",
      "0.0928 : This was my first escape from experience in the US. Years ago I had this experience in China and it was pretty interesting. This year I was in charge of a team bonding  experience for work and i thought we should try this place out. I found this place on yelp and decided to give this place a try. While looking for the different games that were available, escape the alienate was the only option that would fit our team of eight to be together . We showed up 15 minutes before the start game of 3 PM on a weekday and someone - the game master - came downstairs to greet us and walk us upstairs to the room.  She gave us a debrief on what the game would be like, how to sign waivers, and went through all the rules and everything we needed to know. She told us that the percentage of teams that made it out was around 23%. The game itself is currently football at the rules are self-explanatory - you get 60 minutes to solve riddles and puzzles that make your way out of a locked room. There's a total of four tokens that you could find which equivalent to four hints that you can get from the game master. Overall this activity was pretty fine however I didn't think the production value was very high. I had read about different escape rooms in San Francisco and I had very high production value were route the doors which shift making it quite a unique experience.. Overall this activity was pretty fun however I didn't think the production value was very high. I had read about different escape rooms in San Francisco that had very high production value where rooms and doors would shift making it quite a unique experience.\n"
     ]
    }
   ],
   "source": [
    "room_name, room_city = get_room_info(soup)\n",
    "print(\"{} - {}\\n-----------\".format(room_name, room_city))\n",
    "for element in span_elements:\n",
    "    text = element.text\n",
    "    blob = TextBlob(text)\n",
    "    sentiment_score = blob.sentiment.polarity\n",
    "    print(\"{:.4f} : {}\".format(sentiment_score, text))\n"
   ]
  },
  {
   "cell_type": "code",
   "execution_count": 56,
   "metadata": {},
   "outputs": [],
   "source": [
    "base_url = 'https://www.yelp.com/biz/'\n",
    "room_url = 'ryptic-room-escape-san-mateo-3'\n",
    "upper_bound = 171\n",
    "\n",
    "# Gets every review of an escape room and returns it in a list\n",
    "def get_all_page_reviews(base_url, room_url, upper_bound):\n",
    "    # Helper function that takes in a soup object and returns the reviews of\n",
    "    # that \"page\" as a list of reviews\n",
    "    def get_page_reviews(soup_obj):\n",
    "        page_reviews = []\n",
    "        # Class='raw__09f24__T4Ezm' and lang='en' tags specifies reviews\n",
    "        review_elements = soup.find_all(class_='raw__09f24__T4Ezm', lang='en')\n",
    "        for review_element in review_elements:\n",
    "            review = review_element.text\n",
    "            page_reviews.append(review)\n",
    "        return page_reviews\n",
    "\n",
    "    all_reviews = []\n",
    "    for i in range(0, upper_bound, 10): # loop through all review pages\n",
    "        full_url = base_url + room_url\n",
    "        if i != 0: # append appropriate search query for review page\n",
    "            full_url += f'?start={i}' \n",
    "        \n",
    "        # Make html request on full_url and create soup object\n",
    "        html = requests.get(full_url)\n",
    "        soup_obj = BeautifulSoup(html.text, 'html.parser')\n",
    "\n",
    "        # .extend instead of .append because get_page_reviews returns a list\n",
    "        all_reviews.extend(get_page_reviews(soup_obj))\n",
    "    return all_reviews\n",
    "\n",
    "test_reviews = get_all_page_reviews(base_url, room_url, 21) "
   ]
  },
  {
   "cell_type": "code",
   "execution_count": 57,
   "metadata": {},
   "outputs": [
    {
     "data": {
      "text/plain": [
       "30"
      ]
     },
     "execution_count": 57,
     "metadata": {},
     "output_type": "execute_result"
    }
   ],
   "source": [
    "len(test_reviews)"
   ]
  },
  {
   "cell_type": "code",
   "execution_count": 59,
   "metadata": {},
   "outputs": [
    {
     "data": {
      "text/plain": [
       "[(0.275,\n",
       "  \"We had a great game master, but that's about all I can say that was good about this escape room. I've done dozens of escape rooms and this is one of the jankiest rooms I've done. Low tech, you can see all four rooms when you walk in, and the walls are made of legos. And no, I'm not joking.\"),\n",
       " (-0.0701,\n",
       "  \"We booked our event for a birthday party on 8/1/2022 and the day before the event, Ryptic sent an automated cancellation. When I emailed for a manager and called to find out what happened, there was no response.  Later, I get an email saying the host couldn't make it and so they had to cancel.  Poorly handled.  Extremely disappointing Ryptic.  This is not how you run a business!  Now we are left last minute with not birthday plans...wow...so inconsiderate and thoughtless.  I get that things happen, but a courtesy call and, hey, we're sorry, how can we make things right with you would have been a better option.  This is why you're getting a one-star review.  So for all future customers - beware, this business may just decide to cancel with no reason and leave you high and dry.\"),\n",
       " (0.2479,\n",
       "  \"Booked an escape room for my son's 11th bday. Booking was really easy. Well it's easy once you figure out they they book and communicate via email ONLY. Our guide or whatever you want to call them was cool. Young college looking student who explained how it all works and tells you the story. The escape from aliens is located inside of a building that looks abandoned. Metered street parking all around the building. Which was surprisingly pretty easy to find that day. However it's like a 2 hour limit. Overall it was a fun experience even though we did not escape lol we were so close  she takes a group picture at the end of your escape or your attempt to. Would definitely try this again and try their other escape rooms.\"),\n",
       " (0.3514,\n",
       "  'I booked this for a team bonding event. It was the first time for some of my teammates and me so we were unsure what to expect. Taylor hosted us and they were great! Very enthusiastic and tips were very clear. They even gave us a bit more time and some extra hints to get us going so we felt we were close to beating the room.I also want to give a special mention to Abby from customer service as well. I had accidentally booked rooms in two locations and they worked with me to help get either a partial refund or a reschedule which was unexpected but I really, really appreciated.Thank you all for making our visit awesome and I look forward to visiting again in the future.'),\n",
       " (0.2719,\n",
       "  'This was an okay spot. The gamemaster didn\\'t seem that enthusiastic in giving the brief. The puzzles themselves were pretty good, but it was all very basic \"find the key to the lock, and the next lock, and the next lock\" type of thing.If it\\'s your first time going to an escape room, this might be a good novice place to start with. However, with their price being the same as Omescape, it\\'s kinda not worth it. Omescape rooms are already doing version 2 of escape rooms, which means they have more production value (more fancy, elaborate puzzles).'),\n",
       " (0.3086,\n",
       "  \"My son wanted to go here for his 11th birthday.  He invited friends from school and we had a party of 10.  Being new to escape rooms i didn't know what to expect however our game master was awesome.She explained everything perfectly and was also nice and polite with the kids.  She gave the background story before the adventure in a way that got the all the kidsAttention.  Her delivery was great.Without giving too much away about the rooms, all i will say is that the setup was great and definitely matched the storyline.  The whole party had a great time and everyone continued to talk about it over pizza.Parking could be challenging in downtown San Mateo however but it would be well worth it for the experience.  We would come back again to try the other themed rooms.\"),\n",
       " (0.1455,\n",
       "  \"We had so much fun!Highly recommend for groups of friends or team building. Boyfriend and I participated before just us two with random people which was cool- wasn't bad or anything but the experience is totally diff with a group of people you know. The feeling of unlocking the riddles/clues so exhilarating;) hahahaha.Anyways, thanks Chad for being our awesome game master :)\"),\n",
       " (0.532,\n",
       "  'This is a great experience! My team was intimated by the 23% escaping rate. However, Matthew made sure that we got all the support needed along the way and actually got out under 50mins. I highly recommend this place for friends/team building events. Also Matthew is a great guide!!!!'),\n",
       " (0.3409,\n",
       "  'Never did an escape room before. Only experience was watching one on an episode of Big Bang theory. Gotta admit, these guys gave my corporate group a very entertaining hour. Different types of puzzles at varying levels of difficulty, felt like most of the group was able to contribute at different times instead of 1 or 2 know it alls running the show. Fun story line, GREAT HOST, excellent transition to a virtual setting. Look forward to trying another one soon.'),\n",
       " (0.0928,\n",
       "  \"This was my first escape from experience in the US. Years ago I had this experience in China and it was pretty interesting. This year I was in charge of a team bonding  experience for work and i thought we should try this place out. I found this place on yelp and decided to give this place a try. While looking for the different games that were available, escape the alienate was the only option that would fit our team of eight to be together . We showed up 15 minutes before the start game of 3 PM on a weekday and someone - the game master - came downstairs to greet us and walk us upstairs to the room.  She gave us a debrief on what the game would be like, how to sign waivers, and went through all the rules and everything we needed to know. She told us that the percentage of teams that made it out was around 23%. The game itself is currently football at the rules are self-explanatory - you get 60 minutes to solve riddles and puzzles that make your way out of a locked room. There's a total of four tokens that you could find which equivalent to four hints that you can get from the game master. Overall this activity was pretty fine however I didn't think the production value was very high. I had read about different escape rooms in San Francisco and I had very high production value were route the doors which shift making it quite a unique experience.. Overall this activity was pretty fun however I didn't think the production value was very high. I had read about different escape rooms in San Francisco that had very high production value where rooms and doors would shift making it quite a unique experience.\"),\n",
       " (0.275,\n",
       "  \"We had a great game master, but that's about all I can say that was good about this escape room. I've done dozens of escape rooms and this is one of the jankiest rooms I've done. Low tech, you can see all four rooms when you walk in, and the walls are made of legos. And no, I'm not joking.\"),\n",
       " (-0.0701,\n",
       "  \"We booked our event for a birthday party on 8/1/2022 and the day before the event, Ryptic sent an automated cancellation. When I emailed for a manager and called to find out what happened, there was no response.  Later, I get an email saying the host couldn't make it and so they had to cancel.  Poorly handled.  Extremely disappointing Ryptic.  This is not how you run a business!  Now we are left last minute with not birthday plans...wow...so inconsiderate and thoughtless.  I get that things happen, but a courtesy call and, hey, we're sorry, how can we make things right with you would have been a better option.  This is why you're getting a one-star review.  So for all future customers - beware, this business may just decide to cancel with no reason and leave you high and dry.\"),\n",
       " (0.2479,\n",
       "  \"Booked an escape room for my son's 11th bday. Booking was really easy. Well it's easy once you figure out they they book and communicate via email ONLY. Our guide or whatever you want to call them was cool. Young college looking student who explained how it all works and tells you the story. The escape from aliens is located inside of a building that looks abandoned. Metered street parking all around the building. Which was surprisingly pretty easy to find that day. However it's like a 2 hour limit. Overall it was a fun experience even though we did not escape lol we were so close  she takes a group picture at the end of your escape or your attempt to. Would definitely try this again and try their other escape rooms.\"),\n",
       " (0.3514,\n",
       "  'I booked this for a team bonding event. It was the first time for some of my teammates and me so we were unsure what to expect. Taylor hosted us and they were great! Very enthusiastic and tips were very clear. They even gave us a bit more time and some extra hints to get us going so we felt we were close to beating the room.I also want to give a special mention to Abby from customer service as well. I had accidentally booked rooms in two locations and they worked with me to help get either a partial refund or a reschedule which was unexpected but I really, really appreciated.Thank you all for making our visit awesome and I look forward to visiting again in the future.'),\n",
       " (0.2719,\n",
       "  'This was an okay spot. The gamemaster didn\\'t seem that enthusiastic in giving the brief. The puzzles themselves were pretty good, but it was all very basic \"find the key to the lock, and the next lock, and the next lock\" type of thing.If it\\'s your first time going to an escape room, this might be a good novice place to start with. However, with their price being the same as Omescape, it\\'s kinda not worth it. Omescape rooms are already doing version 2 of escape rooms, which means they have more production value (more fancy, elaborate puzzles).'),\n",
       " (0.3086,\n",
       "  \"My son wanted to go here for his 11th birthday.  He invited friends from school and we had a party of 10.  Being new to escape rooms i didn't know what to expect however our game master was awesome.She explained everything perfectly and was also nice and polite with the kids.  She gave the background story before the adventure in a way that got the all the kidsAttention.  Her delivery was great.Without giving too much away about the rooms, all i will say is that the setup was great and definitely matched the storyline.  The whole party had a great time and everyone continued to talk about it over pizza.Parking could be challenging in downtown San Mateo however but it would be well worth it for the experience.  We would come back again to try the other themed rooms.\"),\n",
       " (0.1455,\n",
       "  \"We had so much fun!Highly recommend for groups of friends or team building. Boyfriend and I participated before just us two with random people which was cool- wasn't bad or anything but the experience is totally diff with a group of people you know. The feeling of unlocking the riddles/clues so exhilarating;) hahahaha.Anyways, thanks Chad for being our awesome game master :)\"),\n",
       " (0.532,\n",
       "  'This is a great experience! My team was intimated by the 23% escaping rate. However, Matthew made sure that we got all the support needed along the way and actually got out under 50mins. I highly recommend this place for friends/team building events. Also Matthew is a great guide!!!!'),\n",
       " (0.3409,\n",
       "  'Never did an escape room before. Only experience was watching one on an episode of Big Bang theory. Gotta admit, these guys gave my corporate group a very entertaining hour. Different types of puzzles at varying levels of difficulty, felt like most of the group was able to contribute at different times instead of 1 or 2 know it alls running the show. Fun story line, GREAT HOST, excellent transition to a virtual setting. Look forward to trying another one soon.'),\n",
       " (0.0928,\n",
       "  \"This was my first escape from experience in the US. Years ago I had this experience in China and it was pretty interesting. This year I was in charge of a team bonding  experience for work and i thought we should try this place out. I found this place on yelp and decided to give this place a try. While looking for the different games that were available, escape the alienate was the only option that would fit our team of eight to be together . We showed up 15 minutes before the start game of 3 PM on a weekday and someone - the game master - came downstairs to greet us and walk us upstairs to the room.  She gave us a debrief on what the game would be like, how to sign waivers, and went through all the rules and everything we needed to know. She told us that the percentage of teams that made it out was around 23%. The game itself is currently football at the rules are self-explanatory - you get 60 minutes to solve riddles and puzzles that make your way out of a locked room. There's a total of four tokens that you could find which equivalent to four hints that you can get from the game master. Overall this activity was pretty fine however I didn't think the production value was very high. I had read about different escape rooms in San Francisco and I had very high production value were route the doors which shift making it quite a unique experience.. Overall this activity was pretty fun however I didn't think the production value was very high. I had read about different escape rooms in San Francisco that had very high production value where rooms and doors would shift making it quite a unique experience.\"),\n",
       " (0.275,\n",
       "  \"We had a great game master, but that's about all I can say that was good about this escape room. I've done dozens of escape rooms and this is one of the jankiest rooms I've done. Low tech, you can see all four rooms when you walk in, and the walls are made of legos. And no, I'm not joking.\"),\n",
       " (-0.0701,\n",
       "  \"We booked our event for a birthday party on 8/1/2022 and the day before the event, Ryptic sent an automated cancellation. When I emailed for a manager and called to find out what happened, there was no response.  Later, I get an email saying the host couldn't make it and so they had to cancel.  Poorly handled.  Extremely disappointing Ryptic.  This is not how you run a business!  Now we are left last minute with not birthday plans...wow...so inconsiderate and thoughtless.  I get that things happen, but a courtesy call and, hey, we're sorry, how can we make things right with you would have been a better option.  This is why you're getting a one-star review.  So for all future customers - beware, this business may just decide to cancel with no reason and leave you high and dry.\"),\n",
       " (0.2479,\n",
       "  \"Booked an escape room for my son's 11th bday. Booking was really easy. Well it's easy once you figure out they they book and communicate via email ONLY. Our guide or whatever you want to call them was cool. Young college looking student who explained how it all works and tells you the story. The escape from aliens is located inside of a building that looks abandoned. Metered street parking all around the building. Which was surprisingly pretty easy to find that day. However it's like a 2 hour limit. Overall it was a fun experience even though we did not escape lol we were so close  she takes a group picture at the end of your escape or your attempt to. Would definitely try this again and try their other escape rooms.\"),\n",
       " (0.3514,\n",
       "  'I booked this for a team bonding event. It was the first time for some of my teammates and me so we were unsure what to expect. Taylor hosted us and they were great! Very enthusiastic and tips were very clear. They even gave us a bit more time and some extra hints to get us going so we felt we were close to beating the room.I also want to give a special mention to Abby from customer service as well. I had accidentally booked rooms in two locations and they worked with me to help get either a partial refund or a reschedule which was unexpected but I really, really appreciated.Thank you all for making our visit awesome and I look forward to visiting again in the future.'),\n",
       " (0.2719,\n",
       "  'This was an okay spot. The gamemaster didn\\'t seem that enthusiastic in giving the brief. The puzzles themselves were pretty good, but it was all very basic \"find the key to the lock, and the next lock, and the next lock\" type of thing.If it\\'s your first time going to an escape room, this might be a good novice place to start with. However, with their price being the same as Omescape, it\\'s kinda not worth it. Omescape rooms are already doing version 2 of escape rooms, which means they have more production value (more fancy, elaborate puzzles).'),\n",
       " (0.3086,\n",
       "  \"My son wanted to go here for his 11th birthday.  He invited friends from school and we had a party of 10.  Being new to escape rooms i didn't know what to expect however our game master was awesome.She explained everything perfectly and was also nice and polite with the kids.  She gave the background story before the adventure in a way that got the all the kidsAttention.  Her delivery was great.Without giving too much away about the rooms, all i will say is that the setup was great and definitely matched the storyline.  The whole party had a great time and everyone continued to talk about it over pizza.Parking could be challenging in downtown San Mateo however but it would be well worth it for the experience.  We would come back again to try the other themed rooms.\"),\n",
       " (0.1455,\n",
       "  \"We had so much fun!Highly recommend for groups of friends or team building. Boyfriend and I participated before just us two with random people which was cool- wasn't bad or anything but the experience is totally diff with a group of people you know. The feeling of unlocking the riddles/clues so exhilarating;) hahahaha.Anyways, thanks Chad for being our awesome game master :)\"),\n",
       " (0.532,\n",
       "  'This is a great experience! My team was intimated by the 23% escaping rate. However, Matthew made sure that we got all the support needed along the way and actually got out under 50mins. I highly recommend this place for friends/team building events. Also Matthew is a great guide!!!!'),\n",
       " (0.3409,\n",
       "  'Never did an escape room before. Only experience was watching one on an episode of Big Bang theory. Gotta admit, these guys gave my corporate group a very entertaining hour. Different types of puzzles at varying levels of difficulty, felt like most of the group was able to contribute at different times instead of 1 or 2 know it alls running the show. Fun story line, GREAT HOST, excellent transition to a virtual setting. Look forward to trying another one soon.'),\n",
       " (0.0928,\n",
       "  \"This was my first escape from experience in the US. Years ago I had this experience in China and it was pretty interesting. This year I was in charge of a team bonding  experience for work and i thought we should try this place out. I found this place on yelp and decided to give this place a try. While looking for the different games that were available, escape the alienate was the only option that would fit our team of eight to be together . We showed up 15 minutes before the start game of 3 PM on a weekday and someone - the game master - came downstairs to greet us and walk us upstairs to the room.  She gave us a debrief on what the game would be like, how to sign waivers, and went through all the rules and everything we needed to know. She told us that the percentage of teams that made it out was around 23%. The game itself is currently football at the rules are self-explanatory - you get 60 minutes to solve riddles and puzzles that make your way out of a locked room. There's a total of four tokens that you could find which equivalent to four hints that you can get from the game master. Overall this activity was pretty fine however I didn't think the production value was very high. I had read about different escape rooms in San Francisco and I had very high production value were route the doors which shift making it quite a unique experience.. Overall this activity was pretty fun however I didn't think the production value was very high. I had read about different escape rooms in San Francisco that had very high production value where rooms and doors would shift making it quite a unique experience.\")]"
      ]
     },
     "execution_count": 59,
     "metadata": {},
     "output_type": "execute_result"
    }
   ],
   "source": [
    "# Takes in a list of reviews and returns a list of tuples with the \n",
    "# 0th element being the sentiment score and the 1st element being the\n",
    "# corresponding review.\n",
    "def create_review_sentiment_list(reviews):\n",
    "    review_sentiment_list = []\n",
    "    for review in reviews:\n",
    "        review_blob = TextBlob(review)\n",
    "        sentiment_score = review_blob.sentiment.polarity\n",
    "        review_sentiment_list.append((round(sentiment_score, 4), review))\n",
    "    return review_sentiment_list\n",
    "\n",
    "test_review_sentiment_list = create_review_sentiment_list(test_reviews)\n",
    "test_review_sentiment_list"
   ]
  },
  {
   "cell_type": "code",
   "execution_count": 60,
   "metadata": {},
   "outputs": [
    {
     "name": "stdout",
     "output_type": "stream",
     "text": [
      "0.275 : We had a great game master, but that's about all I can say that was good about this escape room. I've done dozens of escape rooms and this is one of the jankiest rooms I've done. Low tech, you can see all four rooms when you walk in, and the walls are made of legos. And no, I'm not joking.\n",
      "-0.0701 : We booked our event for a birthday party on 8/1/2022 and the day before the event, Ryptic sent an automated cancellation. When I emailed for a manager and called to find out what happened, there was no response.  Later, I get an email saying the host couldn't make it and so they had to cancel.  Poorly handled.  Extremely disappointing Ryptic.  This is not how you run a business!  Now we are left last minute with not birthday plans...wow...so inconsiderate and thoughtless.  I get that things happen, but a courtesy call and, hey, we're sorry, how can we make things right with you would have been a better option.  This is why you're getting a one-star review.  So for all future customers - beware, this business may just decide to cancel with no reason and leave you high and dry.\n",
      "0.2479 : Booked an escape room for my son's 11th bday. Booking was really easy. Well it's easy once you figure out they they book and communicate via email ONLY. Our guide or whatever you want to call them was cool. Young college looking student who explained how it all works and tells you the story. The escape from aliens is located inside of a building that looks abandoned. Metered street parking all around the building. Which was surprisingly pretty easy to find that day. However it's like a 2 hour limit. Overall it was a fun experience even though we did not escape lol we were so close  she takes a group picture at the end of your escape or your attempt to. Would definitely try this again and try their other escape rooms.\n",
      "0.3514 : I booked this for a team bonding event. It was the first time for some of my teammates and me so we were unsure what to expect. Taylor hosted us and they were great! Very enthusiastic and tips were very clear. They even gave us a bit more time and some extra hints to get us going so we felt we were close to beating the room.I also want to give a special mention to Abby from customer service as well. I had accidentally booked rooms in two locations and they worked with me to help get either a partial refund or a reschedule which was unexpected but I really, really appreciated.Thank you all for making our visit awesome and I look forward to visiting again in the future.\n",
      "0.2719 : This was an okay spot. The gamemaster didn't seem that enthusiastic in giving the brief. The puzzles themselves were pretty good, but it was all very basic \"find the key to the lock, and the next lock, and the next lock\" type of thing.If it's your first time going to an escape room, this might be a good novice place to start with. However, with their price being the same as Omescape, it's kinda not worth it. Omescape rooms are already doing version 2 of escape rooms, which means they have more production value (more fancy, elaborate puzzles).\n",
      "0.3086 : My son wanted to go here for his 11th birthday.  He invited friends from school and we had a party of 10.  Being new to escape rooms i didn't know what to expect however our game master was awesome.She explained everything perfectly and was also nice and polite with the kids.  She gave the background story before the adventure in a way that got the all the kidsAttention.  Her delivery was great.Without giving too much away about the rooms, all i will say is that the setup was great and definitely matched the storyline.  The whole party had a great time and everyone continued to talk about it over pizza.Parking could be challenging in downtown San Mateo however but it would be well worth it for the experience.  We would come back again to try the other themed rooms.\n",
      "0.1455 : We had so much fun!Highly recommend for groups of friends or team building. Boyfriend and I participated before just us two with random people which was cool- wasn't bad or anything but the experience is totally diff with a group of people you know. The feeling of unlocking the riddles/clues so exhilarating;) hahahaha.Anyways, thanks Chad for being our awesome game master :)\n",
      "0.532 : This is a great experience! My team was intimated by the 23% escaping rate. However, Matthew made sure that we got all the support needed along the way and actually got out under 50mins. I highly recommend this place for friends/team building events. Also Matthew is a great guide!!!!\n",
      "0.3409 : Never did an escape room before. Only experience was watching one on an episode of Big Bang theory. Gotta admit, these guys gave my corporate group a very entertaining hour. Different types of puzzles at varying levels of difficulty, felt like most of the group was able to contribute at different times instead of 1 or 2 know it alls running the show. Fun story line, GREAT HOST, excellent transition to a virtual setting. Look forward to trying another one soon.\n",
      "0.0928 : This was my first escape from experience in the US. Years ago I had this experience in China and it was pretty interesting. This year I was in charge of a team bonding  experience for work and i thought we should try this place out. I found this place on yelp and decided to give this place a try. While looking for the different games that were available, escape the alienate was the only option that would fit our team of eight to be together . We showed up 15 minutes before the start game of 3 PM on a weekday and someone - the game master - came downstairs to greet us and walk us upstairs to the room.  She gave us a debrief on what the game would be like, how to sign waivers, and went through all the rules and everything we needed to know. She told us that the percentage of teams that made it out was around 23%. The game itself is currently football at the rules are self-explanatory - you get 60 minutes to solve riddles and puzzles that make your way out of a locked room. There's a total of four tokens that you could find which equivalent to four hints that you can get from the game master. Overall this activity was pretty fine however I didn't think the production value was very high. I had read about different escape rooms in San Francisco and I had very high production value were route the doors which shift making it quite a unique experience.. Overall this activity was pretty fun however I didn't think the production value was very high. I had read about different escape rooms in San Francisco that had very high production value where rooms and doors would shift making it quite a unique experience.\n",
      "0.275 : We had a great game master, but that's about all I can say that was good about this escape room. I've done dozens of escape rooms and this is one of the jankiest rooms I've done. Low tech, you can see all four rooms when you walk in, and the walls are made of legos. And no, I'm not joking.\n",
      "-0.0701 : We booked our event for a birthday party on 8/1/2022 and the day before the event, Ryptic sent an automated cancellation. When I emailed for a manager and called to find out what happened, there was no response.  Later, I get an email saying the host couldn't make it and so they had to cancel.  Poorly handled.  Extremely disappointing Ryptic.  This is not how you run a business!  Now we are left last minute with not birthday plans...wow...so inconsiderate and thoughtless.  I get that things happen, but a courtesy call and, hey, we're sorry, how can we make things right with you would have been a better option.  This is why you're getting a one-star review.  So for all future customers - beware, this business may just decide to cancel with no reason and leave you high and dry.\n",
      "0.2479 : Booked an escape room for my son's 11th bday. Booking was really easy. Well it's easy once you figure out they they book and communicate via email ONLY. Our guide or whatever you want to call them was cool. Young college looking student who explained how it all works and tells you the story. The escape from aliens is located inside of a building that looks abandoned. Metered street parking all around the building. Which was surprisingly pretty easy to find that day. However it's like a 2 hour limit. Overall it was a fun experience even though we did not escape lol we were so close  she takes a group picture at the end of your escape or your attempt to. Would definitely try this again and try their other escape rooms.\n",
      "0.3514 : I booked this for a team bonding event. It was the first time for some of my teammates and me so we were unsure what to expect. Taylor hosted us and they were great! Very enthusiastic and tips were very clear. They even gave us a bit more time and some extra hints to get us going so we felt we were close to beating the room.I also want to give a special mention to Abby from customer service as well. I had accidentally booked rooms in two locations and they worked with me to help get either a partial refund or a reschedule which was unexpected but I really, really appreciated.Thank you all for making our visit awesome and I look forward to visiting again in the future.\n",
      "0.2719 : This was an okay spot. The gamemaster didn't seem that enthusiastic in giving the brief. The puzzles themselves were pretty good, but it was all very basic \"find the key to the lock, and the next lock, and the next lock\" type of thing.If it's your first time going to an escape room, this might be a good novice place to start with. However, with their price being the same as Omescape, it's kinda not worth it. Omescape rooms are already doing version 2 of escape rooms, which means they have more production value (more fancy, elaborate puzzles).\n",
      "0.3086 : My son wanted to go here for his 11th birthday.  He invited friends from school and we had a party of 10.  Being new to escape rooms i didn't know what to expect however our game master was awesome.She explained everything perfectly and was also nice and polite with the kids.  She gave the background story before the adventure in a way that got the all the kidsAttention.  Her delivery was great.Without giving too much away about the rooms, all i will say is that the setup was great and definitely matched the storyline.  The whole party had a great time and everyone continued to talk about it over pizza.Parking could be challenging in downtown San Mateo however but it would be well worth it for the experience.  We would come back again to try the other themed rooms.\n",
      "0.1455 : We had so much fun!Highly recommend for groups of friends or team building. Boyfriend and I participated before just us two with random people which was cool- wasn't bad or anything but the experience is totally diff with a group of people you know. The feeling of unlocking the riddles/clues so exhilarating;) hahahaha.Anyways, thanks Chad for being our awesome game master :)\n",
      "0.532 : This is a great experience! My team was intimated by the 23% escaping rate. However, Matthew made sure that we got all the support needed along the way and actually got out under 50mins. I highly recommend this place for friends/team building events. Also Matthew is a great guide!!!!\n",
      "0.3409 : Never did an escape room before. Only experience was watching one on an episode of Big Bang theory. Gotta admit, these guys gave my corporate group a very entertaining hour. Different types of puzzles at varying levels of difficulty, felt like most of the group was able to contribute at different times instead of 1 or 2 know it alls running the show. Fun story line, GREAT HOST, excellent transition to a virtual setting. Look forward to trying another one soon.\n",
      "0.0928 : This was my first escape from experience in the US. Years ago I had this experience in China and it was pretty interesting. This year I was in charge of a team bonding  experience for work and i thought we should try this place out. I found this place on yelp and decided to give this place a try. While looking for the different games that were available, escape the alienate was the only option that would fit our team of eight to be together . We showed up 15 minutes before the start game of 3 PM on a weekday and someone - the game master - came downstairs to greet us and walk us upstairs to the room.  She gave us a debrief on what the game would be like, how to sign waivers, and went through all the rules and everything we needed to know. She told us that the percentage of teams that made it out was around 23%. The game itself is currently football at the rules are self-explanatory - you get 60 minutes to solve riddles and puzzles that make your way out of a locked room. There's a total of four tokens that you could find which equivalent to four hints that you can get from the game master. Overall this activity was pretty fine however I didn't think the production value was very high. I had read about different escape rooms in San Francisco and I had very high production value were route the doors which shift making it quite a unique experience.. Overall this activity was pretty fun however I didn't think the production value was very high. I had read about different escape rooms in San Francisco that had very high production value where rooms and doors would shift making it quite a unique experience.\n",
      "0.275 : We had a great game master, but that's about all I can say that was good about this escape room. I've done dozens of escape rooms and this is one of the jankiest rooms I've done. Low tech, you can see all four rooms when you walk in, and the walls are made of legos. And no, I'm not joking.\n",
      "-0.0701 : We booked our event for a birthday party on 8/1/2022 and the day before the event, Ryptic sent an automated cancellation. When I emailed for a manager and called to find out what happened, there was no response.  Later, I get an email saying the host couldn't make it and so they had to cancel.  Poorly handled.  Extremely disappointing Ryptic.  This is not how you run a business!  Now we are left last minute with not birthday plans...wow...so inconsiderate and thoughtless.  I get that things happen, but a courtesy call and, hey, we're sorry, how can we make things right with you would have been a better option.  This is why you're getting a one-star review.  So for all future customers - beware, this business may just decide to cancel with no reason and leave you high and dry.\n",
      "0.2479 : Booked an escape room for my son's 11th bday. Booking was really easy. Well it's easy once you figure out they they book and communicate via email ONLY. Our guide or whatever you want to call them was cool. Young college looking student who explained how it all works and tells you the story. The escape from aliens is located inside of a building that looks abandoned. Metered street parking all around the building. Which was surprisingly pretty easy to find that day. However it's like a 2 hour limit. Overall it was a fun experience even though we did not escape lol we were so close  she takes a group picture at the end of your escape or your attempt to. Would definitely try this again and try their other escape rooms.\n",
      "0.3514 : I booked this for a team bonding event. It was the first time for some of my teammates and me so we were unsure what to expect. Taylor hosted us and they were great! Very enthusiastic and tips were very clear. They even gave us a bit more time and some extra hints to get us going so we felt we were close to beating the room.I also want to give a special mention to Abby from customer service as well. I had accidentally booked rooms in two locations and they worked with me to help get either a partial refund or a reschedule which was unexpected but I really, really appreciated.Thank you all for making our visit awesome and I look forward to visiting again in the future.\n",
      "0.2719 : This was an okay spot. The gamemaster didn't seem that enthusiastic in giving the brief. The puzzles themselves were pretty good, but it was all very basic \"find the key to the lock, and the next lock, and the next lock\" type of thing.If it's your first time going to an escape room, this might be a good novice place to start with. However, with their price being the same as Omescape, it's kinda not worth it. Omescape rooms are already doing version 2 of escape rooms, which means they have more production value (more fancy, elaborate puzzles).\n",
      "0.3086 : My son wanted to go here for his 11th birthday.  He invited friends from school and we had a party of 10.  Being new to escape rooms i didn't know what to expect however our game master was awesome.She explained everything perfectly and was also nice and polite with the kids.  She gave the background story before the adventure in a way that got the all the kidsAttention.  Her delivery was great.Without giving too much away about the rooms, all i will say is that the setup was great and definitely matched the storyline.  The whole party had a great time and everyone continued to talk about it over pizza.Parking could be challenging in downtown San Mateo however but it would be well worth it for the experience.  We would come back again to try the other themed rooms.\n",
      "0.1455 : We had so much fun!Highly recommend for groups of friends or team building. Boyfriend and I participated before just us two with random people which was cool- wasn't bad or anything but the experience is totally diff with a group of people you know. The feeling of unlocking the riddles/clues so exhilarating;) hahahaha.Anyways, thanks Chad for being our awesome game master :)\n",
      "0.532 : This is a great experience! My team was intimated by the 23% escaping rate. However, Matthew made sure that we got all the support needed along the way and actually got out under 50mins. I highly recommend this place for friends/team building events. Also Matthew is a great guide!!!!\n",
      "0.3409 : Never did an escape room before. Only experience was watching one on an episode of Big Bang theory. Gotta admit, these guys gave my corporate group a very entertaining hour. Different types of puzzles at varying levels of difficulty, felt like most of the group was able to contribute at different times instead of 1 or 2 know it alls running the show. Fun story line, GREAT HOST, excellent transition to a virtual setting. Look forward to trying another one soon.\n",
      "0.0928 : This was my first escape from experience in the US. Years ago I had this experience in China and it was pretty interesting. This year I was in charge of a team bonding  experience for work and i thought we should try this place out. I found this place on yelp and decided to give this place a try. While looking for the different games that were available, escape the alienate was the only option that would fit our team of eight to be together . We showed up 15 minutes before the start game of 3 PM on a weekday and someone - the game master - came downstairs to greet us and walk us upstairs to the room.  She gave us a debrief on what the game would be like, how to sign waivers, and went through all the rules and everything we needed to know. She told us that the percentage of teams that made it out was around 23%. The game itself is currently football at the rules are self-explanatory - you get 60 minutes to solve riddles and puzzles that make your way out of a locked room. There's a total of four tokens that you could find which equivalent to four hints that you can get from the game master. Overall this activity was pretty fine however I didn't think the production value was very high. I had read about different escape rooms in San Francisco and I had very high production value were route the doors which shift making it quite a unique experience.. Overall this activity was pretty fun however I didn't think the production value was very high. I had read about different escape rooms in San Francisco that had very high production value where rooms and doors would shift making it quite a unique experience.\n"
     ]
    }
   ],
   "source": [
    "for sentiment_score, text in test_review_sentiment_list:\n",
    "    print(\"{} : {}\".format(sentiment_score, text))"
   ]
  },
  {
   "cell_type": "code",
   "execution_count": 25,
   "metadata": {},
   "outputs": [
    {
     "data": {
      "text/plain": [
       "['RYPTIC ROOM ESCAPE ',\n",
       " ' 94 Photos & 172 Reviews ',\n",
       " ' 205 E 3rd Ave, San Mateo, California ',\n",
       " ' Updated March 2024 ',\n",
       " ' Escape Games ',\n",
       " ' Phone Number ',\n",
       " ' Yelp']"
      ]
     },
     "execution_count": 25,
     "metadata": {},
     "output_type": "execute_result"
    }
   ],
   "source": [
    "print(\"{} - {}\\n-----------\".format(room_name, room_city))\n",
    "for element in span_elements:\n",
    "    text = element.text\n",
    "    blob = TextBlob(text)\n",
    "    sentiment_score = blob.sentiment.polarity\n",
    "    print(\"{:.4f} : {}\".format(sentiment_score, text))"
   ]
  },
  {
   "cell_type": "code",
   "execution_count": 67,
   "metadata": {},
   "outputs": [
    {
     "name": "stdout",
     "output_type": "stream",
     "text": [
      "1, Boy, George, george@gmail.com\n",
      "2, George, Michael, gm@gmail.com\n",
      "3, David, Bowie, david@gmail.com\n",
      "4, Blue, Steele, blue@gmail.com\n",
      "5, Bette, Davis, bette@aol.com\n"
     ]
    }
   ],
   "source": [
    "### TESTING MYSQL CONNECTION\n",
    "\n",
    "import mysql.connector\n",
    "\n",
    "# Establish a connection to the MySQL database\n",
    "cnx = mysql.connector.connect(\n",
    "    host=\"localhost\",\n",
    "    user=\"root\",\n",
    "    password=\"dabaka22\",\n",
    "    database=\"shop\"\n",
    ")\n",
    "\n",
    "cursor = cnx.cursor()\n",
    "\n",
    "sql_query = (\"SELECT * FROM customers\")\n",
    "\n",
    "cursor.execute(sql_query)\n",
    "\n",
    "for (id, first_name, last_name, email) in cursor:\n",
    "  print(f'{id}, {first_name}, {last_name}, {email}')\n",
    "cursor.close()\n",
    "cnx.close()\n"
   ]
  }
 ],
 "metadata": {
  "kernelspec": {
   "display_name": "base",
   "language": "python",
   "name": "python3"
  },
  "language_info": {
   "codemirror_mode": {
    "name": "ipython",
    "version": 3
   },
   "file_extension": ".py",
   "mimetype": "text/x-python",
   "name": "python",
   "nbconvert_exporter": "python",
   "pygments_lexer": "ipython3",
   "version": "3.9.13"
  }
 },
 "nbformat": 4,
 "nbformat_minor": 2
}
