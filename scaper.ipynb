{
 "cells": [
  {
   "cell_type": "code",
   "execution_count": null,
   "metadata": {},
   "outputs": [],
   "source": [
    "import requests\n",
    "from bs4 import BeautifulSoup\n",
    "from textblob import TextBlob\n",
    "import mysql.connector\n",
    "\n",
    "base_url = 'https://www.yelp.com/biz/'\n",
    "url = \"https://www.yelp.com/biz/ryptic-room-escape-san-mateo-3\"\n",
    "html = requests.get(url)\n",
    "soup = BeautifulSoup(html.text, 'html.parser')"
   ]
  },
  {
   "cell_type": "code",
   "execution_count": null,
   "metadata": {},
   "outputs": [],
   "source": [
    "# Returns the upper bound for looping through the review pages.\n",
    "# Example: If the review page consists of 20 pages, then the search query will\n",
    "# append '?start=190' to the URL to get to the last review page. This function will\n",
    "# return 191, the upper bound needed for a for-loop to go through all the review pages.\n",
    "def get_reviews_loop_upper_bound(soup_obj):\n",
    "    upper_bound = 0\n",
    "    # 'css-chan6m' elements contain a \"# of #\", with the former being the current review page\n",
    "    # and the latter being the last review page.\n",
    "    chan6m_elems = soup_obj.find_all(class_='css-chan6m')\n",
    "    for chan6m_elem in chan6m_elems:\n",
    "        if 'of' in chan6m_elem.text:\n",
    "            upper_bound = (int(chan6m_elem.text.split()[-1]) - 1) * 10 + 1 # get last review page\n",
    "            return upper_bound\n",
    "    return upper_bound\n",
    "\n",
    "get_reviews_loop_upper_bound(soup)"
   ]
  },
  {
   "cell_type": "code",
   "execution_count": null,
   "metadata": {},
   "outputs": [],
   "source": [
    "# Takes in a soup object and retuns the escape room's name and the city the room is in\n",
    "def get_room_info(soup_obj):\n",
    "    room_title_info = soup_obj.title.text.split('-')\n",
    "    \n",
    "    # Title is the 0th element in the list with trailing white spaces\n",
    "    room_name = room_title_info[0].strip()\n",
    "\n",
    "    # Address is the 2nd elemnt in the list, city is the second to last element in list with trailing white spaces\n",
    "    room_city = room_title_info[2].split(',')[-2].strip()\n",
    "    return room_name, room_city"
   ]
  },
  {
   "cell_type": "code",
   "execution_count": null,
   "metadata": {},
   "outputs": [],
   "source": [
    "base_url = 'https://www.yelp.com/biz/'\n",
    "room_url = 'ryptic-room-escape-san-mateo-3'\n",
    "upper_bound = 171\n",
    "\n",
    "# Gets every review of an escape room and returns it in a list\n",
    "def get_all_page_reviews(base_url, room_url, upper_bound):\n",
    "    # Helper function that takes in a soup object and returns the reviews of\n",
    "    # that \"page\" as a list of reviews\n",
    "    def get_page_reviews(soup_obj):\n",
    "        page_reviews = []\n",
    "        # Class='raw__09f24__T4Ezm' and lang='en' tags specifies reviews\n",
    "        review_elements = soup.find_all(class_='raw__09f24__T4Ezm', lang='en')\n",
    "        for review_element in review_elements:\n",
    "            review = review_element.text\n",
    "            page_reviews.append(review)\n",
    "        return page_reviews\n",
    "\n",
    "    all_reviews = []\n",
    "    for i in range(0, upper_bound, 10): # loop through all review pages\n",
    "        full_url = base_url + room_url\n",
    "        if i != 0: # append appropriate search query for review page\n",
    "            full_url += f'?start={i}' \n",
    "        \n",
    "        # Make html request on full_url and create soup object\n",
    "        html = requests.get(full_url)\n",
    "        soup_obj = BeautifulSoup(html.text, 'html.parser')\n",
    "\n",
    "        # .extend instead of .append because get_page_reviews returns a list\n",
    "        all_reviews.extend(get_page_reviews(soup_obj))\n",
    "    return all_reviews\n",
    "\n",
    "test_reviews = get_all_page_reviews(base_url, room_url, 21) "
   ]
  },
  {
   "cell_type": "code",
   "execution_count": null,
   "metadata": {},
   "outputs": [],
   "source": [
    "len(test_reviews)"
   ]
  },
  {
   "cell_type": "code",
   "execution_count": null,
   "metadata": {},
   "outputs": [],
   "source": [
    "# Takes in a list of reviews and returns a list of tuples with the \n",
    "# 0th element being the sentiment score and the 1st element being the\n",
    "# corresponding review.\n",
    "def create_review_sentiment_list(reviews):\n",
    "    review_sentiment_list = []\n",
    "    for review in reviews:\n",
    "        review_blob = TextBlob(review)\n",
    "        sentiment_score = review_blob.sentiment.polarity\n",
    "        review_sentiment_list.append((round(sentiment_score, 4), review))\n",
    "    return review_sentiment_list\n",
    "\n",
    "test_review_sentiment_list = create_review_sentiment_list(test_reviews)\n",
    "test_review_sentiment_list"
   ]
  },
  {
   "cell_type": "code",
   "execution_count": null,
   "metadata": {},
   "outputs": [],
   "source": [
    "for sentiment_score, text in test_review_sentiment_list:\n",
    "    print(\"{} : {}\".format(sentiment_score, text))"
   ]
  },
  {
   "cell_type": "code",
   "execution_count": 14,
   "metadata": {},
   "outputs": [
    {
     "name": "stdout",
     "output_type": "stream",
     "text": [
      "1, Boy, George, george@gmail.com\n",
      "2, George, Michael, gm@gmail.com\n",
      "3, David, Bowie, david@gmail.com\n",
      "4, Blue, Steele, blue@gmail.com\n",
      "5, Bette, Davis, bette@aol.com\n"
     ]
    }
   ],
   "source": [
    "### TESTING MYSQL CONNECTION ###\n",
    "\n",
    "import mysql.connector\n",
    "import configparser\n",
    "\n",
    "# Read configuration from config.ini\n",
    "config = configparser.ConfigParser()\n",
    "config.read('config.ini')\n",
    "\n",
    "# Retrieve database settings from the configuration\n",
    "host = config['mysql']['host']\n",
    "user = config['mysql']['user']\n",
    "password = config['mysql']['password']\n",
    "database = config['mysql']['database']\n",
    "\n",
    "\n",
    "# Establish a connection to the MySQL database\n",
    "cnx = mysql.connector.connect(\n",
    "    host=host,\n",
    "    user=user,\n",
    "    password=password,\n",
    "    database=database\n",
    ")\n",
    "\n",
    "cursor = cnx.cursor()\n",
    "\n",
    "sql_query = (\"SELECT * FROM customers\")\n",
    "\n",
    "cursor.execute(sql_query)\n",
    "\n",
    "for (id, first_name, last_name, email) in cursor:\n",
    "  print(f'{id}, {first_name}, {last_name}, {email}')\n",
    "cursor.close()\n",
    "cnx.close()\n"
   ]
  },
  {
   "cell_type": "code",
   "execution_count": null,
   "metadata": {},
   "outputs": [],
   "source": []
  }
 ],
 "metadata": {
  "kernelspec": {
   "display_name": "base",
   "language": "python",
   "name": "python3"
  },
  "language_info": {
   "codemirror_mode": {
    "name": "ipython",
    "version": 3
   },
   "file_extension": ".py",
   "mimetype": "text/x-python",
   "name": "python",
   "nbconvert_exporter": "python",
   "pygments_lexer": "ipython3",
   "version": "3.9.13"
  }
 },
 "nbformat": 4,
 "nbformat_minor": 2
}
